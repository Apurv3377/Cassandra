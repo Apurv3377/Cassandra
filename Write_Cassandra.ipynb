{
 "cells": [
  {
   "cell_type": "code",
   "execution_count": 1,
   "metadata": {},
   "outputs": [],
   "source": [
    "import sys\n",
    "import os\n",
    "import time\n",
    "import random\n",
    "import json\n",
    "from datetime import timezone, datetime\n",
    "import string\n",
    "import uuid\n",
    "from uuid import UUID\n",
    "import pandas as pd\n",
    "import seaborn as sns\n",
    "#%pylab inline"
   ]
  },
  {
   "cell_type": "code",
   "execution_count": 2,
   "metadata": {},
   "outputs": [],
   "source": [
    "def random_generator(size=6, chars=string.ascii_uppercase):\n",
    "    return ''.join(random.choice(chars) for x in range(size))\n",
    "\n",
    "def random_hexgenerator():\n",
    "    hexN=\"0x\"+uuid.uuid4().hex\n",
    "    return hexN[:18]\n",
    "def timestamp_gen():\n",
    "    ts=int(datetime.now(tz=timezone.utc).timestamp() * 1000)\n",
    "    return ts\n",
    "\n",
    "class UUIDEncoder(json.JSONEncoder):\n",
    "    def default(self, obj):\n",
    "        if isinstance(obj, UUID):\n",
    "            # if the obj is uuid, we simply return the value of uuid\n",
    "            return obj.hex\n",
    "        return json.JSONEncoder.default(self, obj)"
   ]
  },
  {
   "cell_type": "code",
   "execution_count": 17,
   "metadata": {},
   "outputs": [],
   "source": [
    "from cassandra.cluster import Cluster\n",
    "cluster = Cluster()\n",
    "\n",
    "cluster = Cluster()\n",
    "connection=cluster.connect('perf')\n",
    "#session = cluster.connect()\n",
    "\n",
    "write_readings={}\n",
    " \n",
    "documents_number = 20000 * 200000\n",
    "j=0\n",
    "itr=0\n",
    "MAX_ITR=10\n",
    "total_docs=0"
   ]
  },
  {
   "cell_type": "code",
   "execution_count": 18,
   "metadata": {},
   "outputs": [
    {
     "name": "stdout",
     "output_type": "stream",
     "text": [
      "inserted  7936  in  10.014399 s\n",
      "average inserts per second is : 793.6\n"
     ]
    }
   ],
   "source": [
    "prepared = connection.prepare('INSERT INTO perf.cassandra_test1 JSON ?')\n",
    "#start = datetime.now();\n",
    "startf = datetime.now();\n",
    "while itr<MAX_ITR: \n",
    "    start = datetime.now();\n",
    "    for index in range(documents_number):\n",
    "        \n",
    "        try:\n",
    "            u=str(uuid.uuid1())\n",
    "            value = random.randint(1,90000)\n",
    "            syscall_nr=random_generator(4,'12345')\n",
    "            syscall_name=random_generator(6,\"abcdefghijklmnopqrstuvwxyz\")\n",
    "            dtb=random_hexgenerator()\n",
    "            rsp=random_hexgenerator()\n",
    "            rip=random_hexgenerator()\n",
    "            pid=random.randint(1,10000)\n",
    "            vmid=\"vm\"+random_generator(2,'1234')\n",
    "            logtype=random_generator(3,'xyz')\n",
    "            \n",
    "            obj={'id':u,\n",
    "                 'dtb':dtb,\n",
    "                 'logtype':logtype,\n",
    "                 'pid':pid,\n",
    "                 'rip':rip,\n",
    "                 'rsp':rsp,\n",
    "                 'syscall_name':syscall_name,\n",
    "                 'syscall_nr':syscall_nr,\n",
    "                 'value':value,\n",
    "                 'vmid':vmid\n",
    "                }\n",
    "            \n",
    "            connection.execute(prepared, [json.dumps(obj,cls=UUIDEncoder)])\n",
    "            \n",
    "            #calculate the time for the insert\n",
    "            timec=int((datetime.now() - start).total_seconds())\n",
    "\n",
    "            if timec==1:\n",
    "                #print (timec, 'secs for',index)\n",
    "                write_readings[j]=index\n",
    "                j=j+1\n",
    "                #f.write(\"%d,%d\\n\" %(j, index))\n",
    "                itr=itr+1\n",
    "                total_docs=total_docs + index\n",
    "                break\n",
    "                   \n",
    "        except:\n",
    "            print ('Unexpected error:', sys.exc_info()[0], ', for index ', index)\n",
    "            raise\n",
    "print ('inserted ',total_docs, ' in ', (datetime.now() - startf).total_seconds(), 's')\n",
    "print ('average inserts per second is :',total_docs/10)"
   ]
  },
  {
   "cell_type": "code",
   "execution_count": 19,
   "metadata": {},
   "outputs": [
    {
     "data": {
      "text/plain": [
       "array([<matplotlib.axes._subplots.AxesSubplot object at 0x7fe0143286d8>],\n",
       "      dtype=object)"
      ]
     },
     "execution_count": 19,
     "metadata": {},
     "output_type": "execute_result"
    },
    {
     "data": {
      "image/png": "[encoded data removed]",
      "text/plain": [
       "<Figure size 720x720 with 1 Axes>"
      ]
     },
     "metadata": {
      "needs_background": "light"
     },
     "output_type": "display_data"
    }
   ],
   "source": [
    "producer_df = pd.DataFrame.from_dict(write_readings, orient='index').rename(columns={0: 'write_per_second'})\n",
    "producer_df.sort_index(inplace=True)\n",
    "producer_df\n",
    "producer_df.plot(kind='bar', subplots=True, figsize=(10, 10), title=\"Write Performance\")"
   ]
  },
  {
   "cell_type": "code",
   "execution_count": null,
   "metadata": {},
   "outputs": [],
   "source": []
  }
 ],
 "metadata": {
  "kernelspec": {
   "display_name": "Python 3",
   "language": "python",
   "name": "python3"
  },
  "language_info": {
   "codemirror_mode": {
    "name": "ipython",
    "version": 3
   },
   "file_extension": ".py",
   "mimetype": "text/x-python",
   "name": "python",
   "nbconvert_exporter": "python",
   "pygments_lexer": "ipython3",
   "version": "3.5.3"
  }
 },
 "nbformat": 4,
 "nbformat_minor": 2
}
