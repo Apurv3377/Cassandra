{
 "cells": [
  {
   "cell_type": "code",
   "execution_count": 16,
   "metadata": {},
   "outputs": [],
   "source": [
    "import sys\n",
    "import os\n",
    "import time\n",
    "import random\n",
    "import json\n",
    "from datetime import timezone, datetime\n",
    "import string\n",
    "import uuid\n",
    "from uuid import UUID\n",
    "import pandas as pd\n",
    "import seaborn as sns\n",
    "#%pylab inline"
   ]
  },
  {
   "cell_type": "code",
   "execution_count": 22,
   "metadata": {},
   "outputs": [],
   "source": [
    "def random_generator(size=6, chars=string.ascii_uppercase):\n",
    "    return ''.join(random.choice(chars) for x in range(size))\n",
    "\n",
    "from cassandra.cluster import Cluster\n",
    "cluster = Cluster()\n",
    "\n",
    "cluster = Cluster()\n",
    "connection=cluster.connect('perf')\n",
    "\n",
    "#session = cluster.connect()\n",
    "read_readings={}"
   ]
  },
  {
   "cell_type": "code",
   "execution_count": 29,
   "metadata": {},
   "outputs": [
    {
     "name": "stdout",
     "output_type": "stream",
     "text": [
      "Read 4206  in  10.045724 s\n",
      "average read per second is : 420.6\n"
     ]
    }
   ],
   "source": [
    "total_docs=0\n",
    "j=0\n",
    "itr=0\n",
    "MAX_ITR=10\n",
    "startf = datetime.now();\n",
    "#user_lookup_stmt = session.prepare(\"select * from perf.cassandra_test1 where vmid=? ALLOW FILTERING\")\n",
    "#user_lookup_stmt = session.prepare(\"select * from perf.cassandra_test1\")\n",
    "while itr<MAX_ITR: \n",
    "    start = datetime.now();\n",
    "    for index in range(100000000000):\n",
    "        \n",
    "        try:\n",
    "            \n",
    "            vmid1=\"vm\"+random_generator(2,'1234')\n",
    "            \n",
    "            #res = session.execute(user_lookup_stmt, [vmid1])\n",
    "            #res = session.execute(user_lookup_stmt)\n",
    "            res = connection.execute(\"select * from cassandra_test where vmid='vm17' ALLOW FILTERING\")\n",
    "            timec=int((datetime.now() - start).total_seconds())\n",
    "\n",
    "            if timec==1:\n",
    "                #print (timec, 'secs for',index)\n",
    "                j=j+1\n",
    "                itr=itr+1\n",
    "                read_readings[j]=index\n",
    "                total_docs=total_docs + index\n",
    "                break\n",
    "                   \n",
    "        except:\n",
    "            print ('Unexpected error:', sys.exc_info()[0], ', for index ', index)\n",
    "            raise\n",
    "            \n",
    "print ('Read',total_docs, ' in ', (datetime.now() - startf).total_seconds(), 's')\n",
    "print ('average read per second is :',total_docs/10)"
   ]
  },
  {
   "cell_type": "code",
   "execution_count": 30,
   "metadata": {},
   "outputs": [
    {
     "data": {
      "text/plain": [
       "array([<matplotlib.axes._subplots.AxesSubplot object at 0x7f24d00682e8>],\n",
       "      dtype=object)"
      ]
     },
     "execution_count": 30,
     "metadata": {},
     "output_type": "execute_result"
    },
    {
     "data": {
      "image/png": "[encoded data removed]",
      "text/plain": [
       "<Figure size 720x720 with 1 Axes>"
      ]
     },
     "metadata": {
      "needs_background": "light"
     },
     "output_type": "display_data"
    }
   ],
   "source": [
    "producer_df = pd.DataFrame.from_dict(read_readings, orient='index').rename(columns={0: 'read_per_second'})\n",
    "producer_df.sort_index(inplace=True)\n",
    "producer_df\n",
    "producer_df.plot(kind='bar', subplots=True, figsize=(10, 10), title=\"Read Performance\")"
   ]
  },
  {
   "cell_type": "code",
   "execution_count": null,
   "metadata": {},
   "outputs": [],
   "source": []
  }
 ],
 "metadata": {
  "kernelspec": {
   "display_name": "Python 3",
   "language": "python",
   "name": "python3"
  },
  "language_info": {
   "codemirror_mode": {
    "name": "ipython",
    "version": 3
   },
   "file_extension": ".py",
   "mimetype": "text/x-python",
   "name": "python",
   "nbconvert_exporter": "python",
   "pygments_lexer": "ipython3",
   "version": "3.5.3"
  }
 },
 "nbformat": 4,
 "nbformat_minor": 2
}
